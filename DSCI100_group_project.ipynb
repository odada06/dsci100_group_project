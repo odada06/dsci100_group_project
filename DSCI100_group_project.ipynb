{
 "cells": [
  {
   "cell_type": "markdown",
   "id": "a0d7c800-6db6-43f1-b53f-b831837af1b7",
   "metadata": {},
   "source": [
    "DSCI 100 PLAICraft Group Project"
   ]
  },
  {
   "cell_type": "code",
   "execution_count": null,
   "id": "3738aa26-4a24-4708-98af-2150b3fd98ca",
   "metadata": {},
   "outputs": [],
   "source": []
  }
 ],
 "metadata": {
  "kernelspec": {
   "display_name": "R",
   "language": "R",
   "name": "ir"
  },
  "language_info": {
   "codemirror_mode": "r",
   "file_extension": ".r",
   "mimetype": "text/x-r-source",
   "name": "R",
   "pygments_lexer": "r",
   "version": "4.3.3"
  }
 },
 "nbformat": 4,
 "nbformat_minor": 5
}
